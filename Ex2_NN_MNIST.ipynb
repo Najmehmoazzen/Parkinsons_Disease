{
  "nbformat": 4,
  "nbformat_minor": 0,
  "metadata": {
    "colab": {
      "provenance": [],
      "mount_file_id": "1WjXDL_R1y2XxC4csXvcwtvN5hKTos-kL",
      "authorship_tag": "ABX9TyNEyCYRGQ8n44aCWNLWNlTK",
      "include_colab_link": true
    },
    "kernelspec": {
      "name": "python3",
      "display_name": "Python 3"
    },
    "language_info": {
      "name": "python"
    }
  },
  "cells": [
    {
      "cell_type": "markdown",
      "metadata": {
        "id": "view-in-github",
        "colab_type": "text"
      },
      "source": [
        "<a href=\"https://colab.research.google.com/github/Najmehmoazzen/Parkinson-s_Disease/blob/main/Ex2_NN_MNIST.ipynb\" target=\"_parent\"><img src=\"https://colab.research.google.com/assets/colab-badge.svg\" alt=\"Open In Colab\"/></a>"
      ]
    },
    {
      "cell_type": "markdown",
      "source": [
        "#**A NN excersise using MNIST dataset**"
      ],
      "metadata": {
        "id": "0veu10TeQ3PW"
      }
    },
    {
      "cell_type": "markdown",
      "source": [
        "## Step 1: Import Libraries\n",
        "\n",
        "\n"
      ],
      "metadata": {
        "id": "SB3S24EpQnPo"
      }
    },
    {
      "cell_type": "code",
      "execution_count": null,
      "metadata": {
        "colab": {
          "base_uri": "https://localhost:8080/"
        },
        "id": "1rx4TZmkIomT",
        "outputId": "1fbdb82e-9c54-4674-f8bf-43438ea11f62"
      },
      "outputs": [
        {
          "output_type": "stream",
          "name": "stdout",
          "text": [
            "TensorFlow version: 2.12.0\n"
          ]
        }
      ],
      "source": [
        "import tensorflow as tf\n",
        "print(\"TensorFlow version:\", tf.__version__)\n",
        "from tensorflow import keras"
      ]
    },
    {
      "cell_type": "markdown",
      "source": [
        "Load and prepare mnist dataset."
      ],
      "metadata": {
        "id": "N6PUVHyEJzfP"
      }
    },
    {
      "cell_type": "markdown",
      "source": [
        "## Step 2: Load the Data"
      ],
      "metadata": {
        "id": "7hoP5mYpQsm-"
      }
    },
    {
      "cell_type": "code",
      "source": [
        "# Laod MNIST dataset\n",
        "mnist = tf.keras.datasets.mnist\n",
        "\n",
        "(x_train, y_train), (x_test, y_test) = mnist.load_data()\n"
      ],
      "metadata": {
        "id": "ZxveeImPItvQ"
      },
      "execution_count": null,
      "outputs": []
    },
    {
      "cell_type": "markdown",
      "source": [
        "## Step 3: Explore the Data\n",
        "It is a dataset of 60,000 small square 28×28 pixel grayscale images of handwritten single digits between 0 and 9."
      ],
      "metadata": {
        "id": "GyADTz5CQ0C_"
      }
    },
    {
      "cell_type": "code",
      "source": [
        "# Explore the data\n",
        "print(x_train.shape)  # (60000, 28, 28)\n",
        "print(y_train.shape)  # (60000,)\n",
        "print(x_test.shape)   # (10000, 28, 28)\n",
        "print(y_test.shape)   # (10000,)"
      ],
      "metadata": {
        "id": "-hjiJvizJTX3",
        "colab": {
          "base_uri": "https://localhost:8080/"
        },
        "outputId": "ade3ceb2-48f6-4345-b94e-e35b91dca58a"
      },
      "execution_count": null,
      "outputs": [
        {
          "output_type": "stream",
          "name": "stdout",
          "text": [
            "(60000, 28, 28)\n",
            "(60000,)\n",
            "(10000, 28, 28)\n",
            "(10000,)\n"
          ]
        }
      ]
    },
    {
      "cell_type": "markdown",
      "source": [
        "## Step 4: Preprocess the Data\n",
        "The pixel values of the images range from 0 through 255. Scale these values to a range of 0 to 1 by dividing the values by 255.0. And we’ll reshape the data to be a 2D array. This also converts the sample data from integers to floating-point numbers:"
      ],
      "metadata": {
        "id": "H38QryoeVjy2"
      }
    },
    {
      "cell_type": "code",
      "source": [
        "x_train = x_train / 255.0\n",
        "x_test = x_test / 255.0\n"
      ],
      "metadata": {
        "id": "KR6LViuDPtzB"
      },
      "execution_count": null,
      "outputs": []
    },
    {
      "cell_type": "markdown",
      "source": [
        "## Step 5: Build the Model\n",
        " We’ll use a simple neural network with one hidden layer.\n",
        "\n",
        "*   Flattening a tensor: a layer in TensorFlow's Keras API that transforms an input tensor into a 1-dimensional array. It takes an input_shape parameter that specifies the shape of the input tensor, which in this case is (28, 28).The Flatten layer is often used as the first layer in a neural network that processes image data. In this case, it flattens a 2-dimensional input tensor representing a grayscale image with dimensions of 28 pixels by 28 pixels into a 1-dimensional vector of length 784 (28 x 28 = 784). This flattened vector can then be passed to a fully connected neural network layer, which can learn to classify the image based on its features.)\n",
        "\n",
        "*   The second layer is a Dense layer with 128 neurons and a ReLU activation function. This layer learns higher-level feature representations of the input data.\n",
        "\n",
        "*   The third layer is a Dropout layer with a dropout rate of 0.2. This layer randomly drops out 20% of the input units during training to prevent overfitting.\n",
        "\n",
        "\n",
        "*   The fourth and final layer is a Dense layer with 10 neurons, representing the 10 possible output classes (0-9) in the MNIST dataset.\n"
      ],
      "metadata": {
        "id": "fXftK1LXV3IP"
      }
    },
    {
      "cell_type": "code",
      "source": [
        "model = tf.keras.models.Sequential([\n",
        "  tf.keras.layers.Flatten(input_shape=(28, 28),),\n",
        "  tf.keras.layers.Dense(128, activation='relu'),                        #128 neurons in hidden laye\n",
        "  tf.keras.layers.Dropout(0.2),\n",
        "  tf.keras.layers.Dense(10, activation='softmax')\n",
        "])"
      ],
      "metadata": {
        "id": "a4JomWWXWopN"
      },
      "execution_count": null,
      "outputs": []
    },
    {
      "cell_type": "markdown",
      "source": [
        "## Step 6: Compile the Model"
      ],
      "metadata": {
        "id": "xjaJvng5JNxc"
      }
    },
    {
      "cell_type": "code",
      "source": [
        "model.compile(optimizer='adam',\n",
        "              loss='sparse_categorical_crossentropy',\n",
        "              metrics=['accuracy'])"
      ],
      "metadata": {
        "id": "DZFMnLNjXCYP"
      },
      "execution_count": null,
      "outputs": []
    },
    {
      "cell_type": "markdown",
      "source": [
        "## Step 7: Train the Model"
      ],
      "metadata": {
        "id": "yI6az_AGJk7T"
      }
    },
    {
      "cell_type": "code",
      "source": [
        "model.fit(x_train, y_train, epochs=10, batch_size=32,  validation_data=(x_test, y_test))"
      ],
      "metadata": {
        "colab": {
          "base_uri": "https://localhost:8080/"
        },
        "id": "EJFuqP4kJjoq",
        "outputId": "7c04c87f-bb01-418c-924b-bd2e2e19f169"
      },
      "execution_count": null,
      "outputs": [
        {
          "output_type": "stream",
          "name": "stdout",
          "text": [
            "Epoch 1/10\n",
            "1875/1875 [==============================] - 10s 5ms/step - loss: 0.2997 - accuracy: 0.9125 - val_loss: 0.1385 - val_accuracy: 0.9567\n",
            "Epoch 2/10\n",
            "1875/1875 [==============================] - 10s 5ms/step - loss: 0.1463 - accuracy: 0.9565 - val_loss: 0.0965 - val_accuracy: 0.9702\n",
            "Epoch 3/10\n",
            "1875/1875 [==============================] - 10s 5ms/step - loss: 0.1085 - accuracy: 0.9674 - val_loss: 0.0903 - val_accuracy: 0.9714\n",
            "Epoch 4/10\n",
            "1875/1875 [==============================] - 10s 5ms/step - loss: 0.0896 - accuracy: 0.9720 - val_loss: 0.0742 - val_accuracy: 0.9754\n",
            "Epoch 5/10\n",
            "1875/1875 [==============================] - 10s 5ms/step - loss: 0.0778 - accuracy: 0.9756 - val_loss: 0.0777 - val_accuracy: 0.9754\n",
            "Epoch 6/10\n",
            "1875/1875 [==============================] - 10s 5ms/step - loss: 0.0680 - accuracy: 0.9779 - val_loss: 0.0736 - val_accuracy: 0.9775\n",
            "Epoch 7/10\n",
            "1875/1875 [==============================] - 11s 6ms/step - loss: 0.0603 - accuracy: 0.9803 - val_loss: 0.0692 - val_accuracy: 0.9797\n",
            "Epoch 8/10\n",
            "1875/1875 [==============================] - 12s 6ms/step - loss: 0.0544 - accuracy: 0.9821 - val_loss: 0.0727 - val_accuracy: 0.9785\n",
            "Epoch 9/10\n",
            "1875/1875 [==============================] - 10s 5ms/step - loss: 0.0493 - accuracy: 0.9836 - val_loss: 0.0755 - val_accuracy: 0.9771\n",
            "Epoch 10/10\n",
            "1875/1875 [==============================] - 12s 7ms/step - loss: 0.0453 - accuracy: 0.9847 - val_loss: 0.0710 - val_accuracy: 0.9792\n"
          ]
        },
        {
          "output_type": "execute_result",
          "data": {
            "text/plain": [
              "<keras.callbacks.History at 0x7f31da76b5e0>"
            ]
          },
          "metadata": {},
          "execution_count": 60
        }
      ]
    },
    {
      "cell_type": "markdown",
      "source": [
        "## Step 8: Evaluate the Model"
      ],
      "metadata": {
        "id": "qDOM3x47QST1"
      }
    },
    {
      "cell_type": "code",
      "source": [
        "test_loss, test_acc = model.evaluate(x_test,  y_test, verbose=2)\n",
        "print('Test accuracy:', test_acc)"
      ],
      "metadata": {
        "colab": {
          "base_uri": "https://localhost:8080/"
        },
        "id": "3ytMFDycO9qQ",
        "outputId": "98e19a6a-913a-49ba-ce66-b51531204158"
      },
      "execution_count": null,
      "outputs": [
        {
          "output_type": "stream",
          "name": "stdout",
          "text": [
            "313/313 - 1s - loss: 0.0710 - accuracy: 0.9792 - 551ms/epoch - 2ms/step\n",
            "Test accuracy: 0.979200005531311\n"
          ]
        }
      ]
    },
    {
      "cell_type": "markdown",
      "source": [
        "The image classifier is now trained to ~98% accuracy on this dataset."
      ],
      "metadata": {
        "id": "cZ7KuKREPwq7"
      }
    },
    {
      "cell_type": "markdown",
      "source": [
        "## Step 9: Make Predictions\n",
        "Finally, we can use the trained model to make predictions on new data."
      ],
      "metadata": {
        "id": "V8sbgp4iQe3T"
      }
    },
    {
      "cell_type": "code",
      "source": [
        "predictions = model.predict(x_test[:5])\n",
        "print(predictions)"
      ],
      "metadata": {
        "colab": {
          "base_uri": "https://localhost:8080/"
        },
        "id": "Puerum_mPdyV",
        "outputId": "6fc686a4-5b49-4421-fce7-692ca946eec8"
      },
      "execution_count": null,
      "outputs": [
        {
          "output_type": "stream",
          "name": "stdout",
          "text": [
            "1/1 [==============================] - 0s 65ms/step\n",
            "[[4.69548345e-10 1.17289373e-10 1.14028129e-08 1.86577245e-06\n",
            "  5.36836988e-16 1.52060338e-08 2.59881516e-18 9.99998093e-01\n",
            "  7.38856754e-10 4.04625062e-08]\n",
            " [1.99957130e-13 3.28536231e-07 9.99999642e-01 9.33482536e-09\n",
            "  9.96945183e-23 3.19406779e-10 1.06280686e-10 8.05575118e-17\n",
            "  3.97449433e-08 5.81316200e-21]\n",
            " [1.61524172e-09 9.99596536e-01 7.72198400e-05 2.20487095e-08\n",
            "  2.24583914e-07 3.01909822e-08 4.95415725e-06 2.68422766e-04\n",
            "  5.25028554e-05 3.69234456e-08]\n",
            " [9.99580562e-01 1.66587629e-11 3.03288747e-04 2.20802477e-07\n",
            "  5.96080296e-09 2.66883922e-06 6.61889044e-06 4.86996360e-05\n",
            "  2.27669673e-07 5.76826460e-05]\n",
            " [4.08326670e-08 4.87281699e-12 6.69651570e-08 2.74374773e-10\n",
            "  9.97758508e-01 4.41155343e-08 4.51524457e-10 2.80606309e-05\n",
            "  2.19134204e-08 2.21319613e-03]]\n"
          ]
        }
      ]
    },
    {
      "cell_type": "markdown",
      "source": [
        "## Step 10: Fine-tune the Model\n",
        "To improve the performance of the model, we can fine-tune it by adjusting the hyperparameters. In this case, we’ll try increasing the number of hidden layers and neurons."
      ],
      "metadata": {
        "id": "7URpcoodQyYb"
      }
    },
    {
      "cell_type": "code",
      "source": [
        "#model = keras.Sequential([\n",
        "#    keras.layers.Dense(256, activation='relu', input_shape=(784,)),\n",
        "#    keras.layers.Dense(128, activation='relu'),\n",
        "#    keras.layers.Dense(10, activation='softmax')\n",
        "#])\n",
        "\n",
        "#model.compile(optimizer='adam',\n",
        "#              loss='sparse_categorical_crossentropy',\n",
        "#              metrics=['accuracy'])\n",
        "#model.fit(x_train, y_train, epochs=10, batch_size=32, validation_data=(x_test, y_test))\n",
        "#test_loss, test_acc = model.evaluate(x_test, y_test)\n",
        "#print('Test accuracy:', test_acc)"
      ],
      "metadata": {
        "id": "MI6M3FZ7Q4ko"
      },
      "execution_count": null,
      "outputs": []
    },
    {
      "cell_type": "markdown",
      "source": [
        "## Step 11: Visualize the Results\n",
        "To get a better understanding of how the model is performing, we can visualize the results. We’ll plot the training and validation accuracy over time."
      ],
      "metadata": {
        "id": "XXqyDly6R8x8"
      }
    },
    {
      "cell_type": "code",
      "source": [
        "import matplotlib.pyplot as plt\n",
        "\n",
        "history = model.fit(x_train, y_train, epochs=10, batch_size=32, validation_data=(x_test, y_test))\n",
        "plt.plot(history.history['accuracy'], label='accuracy')\n",
        "plt.plot(history.history['val_accuracy'], label='val_accuracy')\n",
        "plt.xlabel('Epoch')\n",
        "plt.ylabel('Accuracy')\n",
        "plt.legend()\n",
        "plt.show()"
      ],
      "metadata": {
        "colab": {
          "base_uri": "https://localhost:8080/",
          "height": 796
        },
        "id": "MOSoVqtxR-Bd",
        "outputId": "4da6f83a-235f-48e1-838c-60b3ed7e87ff"
      },
      "execution_count": null,
      "outputs": [
        {
          "output_type": "stream",
          "name": "stdout",
          "text": [
            "Epoch 1/10\n",
            "1875/1875 [==============================] - 10s 6ms/step - loss: 0.0424 - accuracy: 0.9857 - val_loss: 0.0657 - val_accuracy: 0.9806\n",
            "Epoch 2/10\n",
            "1875/1875 [==============================] - 11s 6ms/step - loss: 0.0394 - accuracy: 0.9868 - val_loss: 0.0643 - val_accuracy: 0.9819\n",
            "Epoch 3/10\n",
            "1875/1875 [==============================] - 9s 5ms/step - loss: 0.0356 - accuracy: 0.9875 - val_loss: 0.0751 - val_accuracy: 0.9797\n",
            "Epoch 4/10\n",
            "1875/1875 [==============================] - 10s 5ms/step - loss: 0.0334 - accuracy: 0.9887 - val_loss: 0.0720 - val_accuracy: 0.9804\n",
            "Epoch 5/10\n",
            "1875/1875 [==============================] - 10s 5ms/step - loss: 0.0340 - accuracy: 0.9884 - val_loss: 0.0807 - val_accuracy: 0.9787\n",
            "Epoch 6/10\n",
            "1875/1875 [==============================] - 10s 5ms/step - loss: 0.0324 - accuracy: 0.9884 - val_loss: 0.0695 - val_accuracy: 0.9811\n",
            "Epoch 7/10\n",
            "1875/1875 [==============================] - 12s 6ms/step - loss: 0.0291 - accuracy: 0.9899 - val_loss: 0.0752 - val_accuracy: 0.9808\n",
            "Epoch 8/10\n",
            "1875/1875 [==============================] - 9s 5ms/step - loss: 0.0303 - accuracy: 0.9899 - val_loss: 0.0810 - val_accuracy: 0.9801\n",
            "Epoch 9/10\n",
            "1875/1875 [==============================] - 10s 5ms/step - loss: 0.0268 - accuracy: 0.9908 - val_loss: 0.0827 - val_accuracy: 0.9793\n",
            "Epoch 10/10\n",
            "1875/1875 [==============================] - 10s 6ms/step - loss: 0.0280 - accuracy: 0.9901 - val_loss: 0.0830 - val_accuracy: 0.9795\n"
          ]
        },
        {
          "output_type": "display_data",
          "data": {
            "text/plain": [
              "<Figure size 640x480 with 1 Axes>"
            ],
            "image/png": "[encoded data removed]"
          },
          "metadata": {}
        }
      ]
    },
    {
      "cell_type": "markdown",
      "source": [
        "## Step 12: Save the Model\n",
        "Once you’ve trained a model and are satisfied with its performance, you can save it for later use. This is especially useful if you’ve spent a lot of time and resources training a model and don’t want to have to retrain it every time you want to use it.\n",
        "\n",
        "This will save the entire model (including the architecture, weights, and optimizer state) to the file my_model.h5 in the current working directory. You can then **load the model back** into memory at a later time using the load_model() function. Note that the load_model() function returns a new model object, which you can use to make predictions on new data."
      ],
      "metadata": {
        "id": "Pt8XR3VLT4I0"
      }
    },
    {
      "cell_type": "code",
      "source": [
        "#model.save('my_model.h5')\n",
        "model.save('/content/drive/MyDrive/Colab Notebooks/my_model.h5')       # at first you should mount colab to your google drive\n",
        "\n",
        "## To LOAD your SAVED MODEL\n",
        "#from tensorflow.keras.models import load_model\n",
        "#loaded_model = load_model('my_model.h5')"
      ],
      "metadata": {
        "id": "HNrnuKEaSEQo"
      },
      "execution_count": null,
      "outputs": []
    },
    {
      "cell_type": "markdown",
      "source": [
        "How to mount colab to google drive?\n",
        "\n",
        "\n",
        "```\n",
        "from google.colab import drive\n",
        "drive.mount('/content/drive')\n",
        "```\n",
        "\n",
        "How to load the saved model to use?\n",
        "\n",
        "\n",
        "```\n",
        "from tensorflow.keras.models import load_model\n",
        "model = load_model('/content/drive/MyDrive/my_model.h5')\n",
        "```\n",
        "\n",
        "\n"
      ],
      "metadata": {
        "id": "L7gXLhmlXu_z"
      }
    },
    {
      "cell_type": "code",
      "source": [],
      "metadata": {
        "id": "3SQgLfWuZFX4"
      },
      "execution_count": null,
      "outputs": []
    }
  ]
}